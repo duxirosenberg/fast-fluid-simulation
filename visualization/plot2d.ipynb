{
 "cells": [
  {
   "cell_type": "markdown",
   "metadata": {},
   "source": [
    "This is a notebook that serves to plot F\n",
    "\n",
    "Just call the function and pass as argument the path to the csv file that stores the current F\n"
   ]
  },
  {
   "cell_type": "code",
   "execution_count": 1,
   "metadata": {},
   "outputs": [],
   "source": [
    "import matplotlib.pyplot as plt\n",
    "import numpy as np\n",
    "import pandas as pd\n",
    "\n",
    "def plot_from_csv(csv_file_path):\n",
    "    # Simulation parameters (must match those used to generate F)\n",
    "    Nx = 400    # resolution x-dir\n",
    "    Ny = 100    # resolution y-dir\n",
    "    NL = 9     # Number of Lattice directions\n",
    "    cxs = np.array([0, 0, 1, 1, 1, 0,-1,-1,-1])\n",
    "    cys = np.array([0, 1, 1, 0,-1,-1,-1, 0, 1])\n",
    "\n",
    "    # Read and reshape F from CSV\n",
    "    F_flat = pd.read_csv(csv_file_path, header=None)[0].values\n",
    "    F = F_flat.reshape((Ny, Nx, NL))\n",
    "\n",
    "    # Cylinder boundary\n",
    "    X, Y = np.meshgrid(range(Nx), range(Ny))\n",
    "    cylinder = (X - Nx/4)**2 + (Y - Ny/2)**2 < (Ny/4)**2\n",
    "    \n",
    "    # Calculate fluid variables\n",
    "    rho = np.sum(F, 2)\n",
    "    ux = np.sum(F*cxs, 2) / rho\n",
    "    uy = np.sum(F*cys, 2) / rho\n",
    "    \n",
    "    # Plotting\n",
    "    plt.figure(figsize=(4,2), dpi=80)\n",
    "    ux[cylinder] = 0\n",
    "    uy[cylinder] = 0\n",
    "    vorticity = (np.roll(ux, -1, axis=0) - np.roll(ux, 1, axis=0)) - (np.roll(uy, -1, axis=1) - np.roll(uy, 1, axis=1))\n",
    "    vorticity[cylinder] = np.nan\n",
    "    vorticity = np.ma.array(vorticity, mask=cylinder)\n",
    "    plt.imshow(vorticity, cmap='bwr')\n",
    "    plt.imshow(~cylinder, cmap='gray', alpha=0.3)\n",
    "    plt.clim(-.1, .1)\n",
    "    ax = plt.gca()\n",
    "    ax.invert_yaxis()\n",
    "    ax.get_xaxis().set_visible(False)\n",
    "    ax.get_yaxis().set_visible(False)\n",
    "    ax.set_aspect('equal')\n",
    "    \n",
    "    # Show plot\n",
    "    plt.show()"
   ]
  },
  {
   "cell_type": "code",
   "execution_count": 2,
   "metadata": {},
   "outputs": [],
   "source": [
    "#csv_file_path = 'F.csv'"
   ]
  },
  {
   "cell_type": "code",
   "execution_count": null,
   "metadata": {},
   "outputs": [],
   "source": []
  }
 ],
 "metadata": {
  "kernelspec": {
   "display_name": "Python 3",
   "language": "python",
   "name": "python3"
  },
  "language_info": {
   "codemirror_mode": {
    "name": "ipython",
    "version": 3
   },
   "file_extension": ".py",
   "mimetype": "text/x-python",
   "name": "python",
   "nbconvert_exporter": "python",
   "pygments_lexer": "ipython3",
   "version": "3.10.8"
  }
 },
 "nbformat": 4,
 "nbformat_minor": 2
}
